{
  "nbformat": 4,
  "nbformat_minor": 0,
  "metadata": {
    "colab": {
      "name": "LinearRegressionWithTimeSeries.ipynb",
      "provenance": []
    },
    "kernelspec": {
      "name": "python3",
      "display_name": "Python 3"
    }
  },
  "cells": [
    {
      "cell_type": "code",
      "metadata": {
        "id": "qxIZsvkd9ucw"
      },
      "source": [
        "import seaborn as sns\n",
        "%matplotlib inline\n",
        "from sklearn.linear_model import LinearRegression\n",
        "import numpy as np\n",
        "import matplotlib.pyplot as plt\n",
        "import pandas as pd \n",
        "import numpy as np\n",
        "df = pd.read_csv(\"/content/drive/MyDrive/fh_5yrs.csv\")"
      ],
      "execution_count": null,
      "outputs": []
    },
    {
      "cell_type": "code",
      "metadata": {
        "colab": {
          "base_uri": "https://localhost:8080/",
          "height": 419
        },
        "id": "0fsBQcLA94LP",
        "outputId": "1e198f09-78af-4a29-9799-9e2e6d67ffdc"
      },
      "source": [
        "filter_apple = df['symbol'] == 'AAPL'\n",
        "df_apple = df[filter_apple]\n",
        "df_apple.head(1000)"
      ],
      "execution_count": null,
      "outputs": [
        {
          "output_type": "execute_result",
          "data": {
            "text/html": [
              "<div>\n",
              "<style scoped>\n",
              "    .dataframe tbody tr th:only-of-type {\n",
              "        vertical-align: middle;\n",
              "    }\n",
              "\n",
              "    .dataframe tbody tr th {\n",
              "        vertical-align: top;\n",
              "    }\n",
              "\n",
              "    .dataframe thead th {\n",
              "        text-align: right;\n",
              "    }\n",
              "</style>\n",
              "<table border=\"1\" class=\"dataframe\">\n",
              "  <thead>\n",
              "    <tr style=\"text-align: right;\">\n",
              "      <th></th>\n",
              "      <th>date</th>\n",
              "      <th>volume</th>\n",
              "      <th>open</th>\n",
              "      <th>high</th>\n",
              "      <th>low</th>\n",
              "      <th>close</th>\n",
              "      <th>adjclose</th>\n",
              "      <th>symbol</th>\n",
              "    </tr>\n",
              "  </thead>\n",
              "  <tbody>\n",
              "    <tr>\n",
              "      <th>11610</th>\n",
              "      <td>2020-07-02</td>\n",
              "      <td>28484300</td>\n",
              "      <td>367.850006</td>\n",
              "      <td>370.470001</td>\n",
              "      <td>363.640015</td>\n",
              "      <td>364.109985</td>\n",
              "      <td>364.109985</td>\n",
              "      <td>AAPL</td>\n",
              "    </tr>\n",
              "    <tr>\n",
              "      <th>11611</th>\n",
              "      <td>2020-07-01</td>\n",
              "      <td>27684300</td>\n",
              "      <td>365.119995</td>\n",
              "      <td>367.359985</td>\n",
              "      <td>363.910004</td>\n",
              "      <td>364.109985</td>\n",
              "      <td>364.109985</td>\n",
              "      <td>AAPL</td>\n",
              "    </tr>\n",
              "    <tr>\n",
              "      <th>11612</th>\n",
              "      <td>2020-06-30</td>\n",
              "      <td>35055800</td>\n",
              "      <td>360.079987</td>\n",
              "      <td>365.980011</td>\n",
              "      <td>360.000000</td>\n",
              "      <td>364.799988</td>\n",
              "      <td>364.799988</td>\n",
              "      <td>AAPL</td>\n",
              "    </tr>\n",
              "    <tr>\n",
              "      <th>11613</th>\n",
              "      <td>2020-06-29</td>\n",
              "      <td>32661500</td>\n",
              "      <td>353.250000</td>\n",
              "      <td>362.170013</td>\n",
              "      <td>351.279999</td>\n",
              "      <td>361.779999</td>\n",
              "      <td>361.779999</td>\n",
              "      <td>AAPL</td>\n",
              "    </tr>\n",
              "    <tr>\n",
              "      <th>11614</th>\n",
              "      <td>2020-06-26</td>\n",
              "      <td>51314200</td>\n",
              "      <td>364.410004</td>\n",
              "      <td>365.320007</td>\n",
              "      <td>353.019989</td>\n",
              "      <td>353.630005</td>\n",
              "      <td>353.630005</td>\n",
              "      <td>AAPL</td>\n",
              "    </tr>\n",
              "    <tr>\n",
              "      <th>...</th>\n",
              "      <td>...</td>\n",
              "      <td>...</td>\n",
              "      <td>...</td>\n",
              "      <td>...</td>\n",
              "      <td>...</td>\n",
              "      <td>...</td>\n",
              "      <td>...</td>\n",
              "      <td>...</td>\n",
              "    </tr>\n",
              "    <tr>\n",
              "      <th>12605</th>\n",
              "      <td>2016-07-20</td>\n",
              "      <td>26276000</td>\n",
              "      <td>100.000000</td>\n",
              "      <td>100.459999</td>\n",
              "      <td>99.739998</td>\n",
              "      <td>99.959999</td>\n",
              "      <td>94.010345</td>\n",
              "      <td>AAPL</td>\n",
              "    </tr>\n",
              "    <tr>\n",
              "      <th>12606</th>\n",
              "      <td>2016-07-19</td>\n",
              "      <td>23779900</td>\n",
              "      <td>99.559998</td>\n",
              "      <td>100.000000</td>\n",
              "      <td>99.339996</td>\n",
              "      <td>99.870003</td>\n",
              "      <td>93.925690</td>\n",
              "      <td>AAPL</td>\n",
              "    </tr>\n",
              "    <tr>\n",
              "      <th>12607</th>\n",
              "      <td>2016-07-18</td>\n",
              "      <td>36493900</td>\n",
              "      <td>98.699997</td>\n",
              "      <td>100.129997</td>\n",
              "      <td>98.599998</td>\n",
              "      <td>99.830002</td>\n",
              "      <td>93.888084</td>\n",
              "      <td>AAPL</td>\n",
              "    </tr>\n",
              "    <tr>\n",
              "      <th>12608</th>\n",
              "      <td>2016-07-15</td>\n",
              "      <td>30137000</td>\n",
              "      <td>98.919998</td>\n",
              "      <td>99.300003</td>\n",
              "      <td>98.500000</td>\n",
              "      <td>98.779999</td>\n",
              "      <td>92.900566</td>\n",
              "      <td>AAPL</td>\n",
              "    </tr>\n",
              "    <tr>\n",
              "      <th>12609</th>\n",
              "      <td>2016-07-14</td>\n",
              "      <td>38919000</td>\n",
              "      <td>97.389999</td>\n",
              "      <td>98.989998</td>\n",
              "      <td>97.320000</td>\n",
              "      <td>98.790001</td>\n",
              "      <td>92.909988</td>\n",
              "      <td>AAPL</td>\n",
              "    </tr>\n",
              "  </tbody>\n",
              "</table>\n",
              "<p>1000 rows × 8 columns</p>\n",
              "</div>"
            ],
            "text/plain": [
              "             date    volume        open  ...       close    adjclose  symbol\n",
              "11610  2020-07-02  28484300  367.850006  ...  364.109985  364.109985    AAPL\n",
              "11611  2020-07-01  27684300  365.119995  ...  364.109985  364.109985    AAPL\n",
              "11612  2020-06-30  35055800  360.079987  ...  364.799988  364.799988    AAPL\n",
              "11613  2020-06-29  32661500  353.250000  ...  361.779999  361.779999    AAPL\n",
              "11614  2020-06-26  51314200  364.410004  ...  353.630005  353.630005    AAPL\n",
              "...           ...       ...         ...  ...         ...         ...     ...\n",
              "12605  2016-07-20  26276000  100.000000  ...   99.959999   94.010345    AAPL\n",
              "12606  2016-07-19  23779900   99.559998  ...   99.870003   93.925690    AAPL\n",
              "12607  2016-07-18  36493900   98.699997  ...   99.830002   93.888084    AAPL\n",
              "12608  2016-07-15  30137000   98.919998  ...   98.779999   92.900566    AAPL\n",
              "12609  2016-07-14  38919000   97.389999  ...   98.790001   92.909988    AAPL\n",
              "\n",
              "[1000 rows x 8 columns]"
            ]
          },
          "metadata": {
            "tags": []
          },
          "execution_count": 3
        }
      ]
    },
    {
      "cell_type": "code",
      "metadata": {
        "colab": {
          "base_uri": "https://localhost:8080/"
        },
        "id": "U6u22ZT0_I7O",
        "outputId": "fd43cede-0e9b-4a6c-a54d-5e6b7e3ff373"
      },
      "source": [
        "df_apple['date'] = pd.to_datetime(df_apple['date'], errors='coerce')"
      ],
      "execution_count": null,
      "outputs": [
        {
          "output_type": "stream",
          "text": [
            "/usr/local/lib/python3.6/dist-packages/ipykernel_launcher.py:1: SettingWithCopyWarning: \n",
            "A value is trying to be set on a copy of a slice from a DataFrame.\n",
            "Try using .loc[row_indexer,col_indexer] = value instead\n",
            "\n",
            "See the caveats in the documentation: https://pandas.pydata.org/pandas-docs/stable/user_guide/indexing.html#returning-a-view-versus-a-copy\n",
            "  \"\"\"Entry point for launching an IPython kernel.\n"
          ],
          "name": "stderr"
        }
      ]
    },
    {
      "cell_type": "code",
      "metadata": {
        "id": "XzU16xDO96Oy"
      },
      "source": [
        "df_apple.isnull().sum()"
      ],
      "execution_count": null,
      "outputs": []
    },
    {
      "cell_type": "code",
      "metadata": {
        "id": "23A6E0AD97u6"
      },
      "source": [
        "tam = len(df_apple)\n",
        "tam_val = int(0.2 * tam)\n",
        "tam_test = int(0.2 * tam)\n",
        "tam_train = int(tam - (tam_val + tam_test))"
      ],
      "execution_count": null,
      "outputs": []
    },
    {
      "cell_type": "code",
      "metadata": {
        "id": "qNxVXmcc9-Of"
      },
      "source": [
        "np.random.seed(2)\n",
        "indice = np.arange(tam)\n",
        "np.random.shuffle(indice)\n",
        "df_shuffled = df_apple.iloc[indice]"
      ],
      "execution_count": null,
      "outputs": []
    },
    {
      "cell_type": "code",
      "metadata": {
        "id": "wbJBLQLM-AlY"
      },
      "source": [
        "df_train = df_shuffled.iloc[:tam_train].copy() \n",
        "df_val = df_shuffled.iloc[tam_train:tam_train+tam_val].copy()\n",
        "df_test = df_shuffled.iloc[tam_train+tam_val:].copy()"
      ],
      "execution_count": null,
      "outputs": []
    },
    {
      "cell_type": "code",
      "metadata": {
        "colab": {
          "base_uri": "https://localhost:8080/"
        },
        "id": "xkqBBCgE-Ch_",
        "outputId": "4fc7d8b1-0511-4650-ff09-b28b280c8c97"
      },
      "source": [
        "print('dimensiones del df_apple: ' + str(df_apple.shape))\n",
        "print('dimensiones del df_train: ' + str(df_train.shape))\n",
        "print('dimensiones del df_test: ' + str(df_test.shape))\n",
        "print('dimensiones del df_val: ' + str(df_val.shape))"
      ],
      "execution_count": null,
      "outputs": [
        {
          "output_type": "stream",
          "text": [
            "dimensiones del df_apple: (1385, 8)\n",
            "dimensiones del df_train: (831, 8)\n",
            "dimensiones del df_test: (277, 8)\n",
            "dimensiones del df_val: (277, 8)\n"
          ],
          "name": "stdout"
        }
      ]
    },
    {
      "cell_type": "code",
      "metadata": {
        "colab": {
          "base_uri": "https://localhost:8080/",
          "height": 520
        },
        "id": "P3bBP5EP-DTO",
        "outputId": "820242e2-437e-4ee7-cb1f-8229f6c64f8a"
      },
      "source": [
        "with plt.style.context('dark_background'):  \n",
        "  plt.figure(figsize=(16,8))\n",
        "  plt.plot(df_apple['date'].iloc[::-1], df_apple['close'].iloc[::-1], color='g',linewidth=1)\n",
        "  plt.title('Apple Stocks')\n",
        "  plt.xlabel('Years\\n Source: fh_5yrs data Kaggle')\n",
        "  plt.ylabel('Close prices ($)')\n",
        "  plt.show()"
      ],
      "execution_count": null,
      "outputs": [
        {
          "output_type": "display_data",
          "data": {
            "image/png": "[encoded data removed]",
            "text/plain": [
              "<Figure size 1152x576 with 1 Axes>"
            ]
          },
          "metadata": {
            "tags": []
          }
        }
      ]
    },
    {
      "cell_type": "code",
      "metadata": {
        "colab": {
          "base_uri": "https://localhost:8080/",
          "height": 514
        },
        "id": "4F4bgOM4-Z51",
        "outputId": "70d11836-89b8-4717-d7e2-6c22db14340a"
      },
      "source": [
        "with plt.style.context('dark_background'):  \n",
        "  plt.figure(figsize=(16,8))\n",
        "  plt.hist(df_apple['close'], bins=60)\n",
        "  plt.title('Apple Stocks')\n",
        "  plt.xlabel('Source: fh_5yrs data Kaggle')\n",
        "  plt.grid() \n",
        "  plt.show()"
      ],
      "execution_count": null,
      "outputs": [
        {
          "output_type": "display_data",
          "data": {
            "image/png": "[encoded data removed]",
            "text/plain": [
              "<Figure size 1152x576 with 1 Axes>"
            ]
          },
          "metadata": {
            "tags": []
          }
        }
      ]
    },
    {
      "cell_type": "code",
      "metadata": {
        "id": "nUlOqy58_ud5"
      },
      "source": [
        "def dejar_solo_cifras(txt):\n",
        "  return \"\".join(c for c in txt if c.isdigit())"
      ],
      "execution_count": null,
      "outputs": []
    },
    {
      "cell_type": "code",
      "metadata": {
        "id": "paA6-7VHAR55"
      },
      "source": [
        "data_of = df_train.date.map(dejar_solo_cifras)"
      ],
      "execution_count": null,
      "outputs": []
    },
    {
      "cell_type": "code",
      "metadata": {
        "colab": {
          "base_uri": "https://localhost:8080/"
        },
        "id": "r4RkkyQ5CK30",
        "outputId": "0c896f34-b0f8-40b2-f903-c6a0451f1a32"
      },
      "source": [
        "data_of.astype(float)"
      ],
      "execution_count": null,
      "outputs": [
        {
          "output_type": "execute_result",
          "data": {
            "text/plain": [
              "12540    20161020.0\n",
              "11809    20190918.0\n",
              "12969    20150209.0\n",
              "12471    20170131.0\n",
              "11997    20181218.0\n",
              "            ...    \n",
              "12929    20150408.0\n",
              "11613    20200629.0\n",
              "12461    20170214.0\n",
              "12312    20170918.0\n",
              "12252    20171212.0\n",
              "Name: date, Length: 831, dtype: float64"
            ]
          },
          "metadata": {
            "tags": []
          },
          "execution_count": 155
        }
      ]
    },
    {
      "cell_type": "code",
      "metadata": {
        "id": "BNH8HRyg_kTx"
      },
      "source": [
        "data_x = data_of.head(100).values.reshape(-1, 1)\n",
        "data_y = df_train[['close']].head(100).values"
      ],
      "execution_count": null,
      "outputs": []
    },
    {
      "cell_type": "code",
      "metadata": {
        "id": "YGCKwnnfDO0l"
      },
      "source": [
        "x_test = data_of.head(20).values.reshape(-1, 1)\n",
        "y_test = df_train[['close']].head(20).values"
      ],
      "execution_count": null,
      "outputs": []
    },
    {
      "cell_type": "code",
      "metadata": {
        "colab": {
          "base_uri": "https://localhost:8080/"
        },
        "id": "wz5gVWo__2Od",
        "outputId": "10f1e98b-9919-48eb-8e5c-d946c04841ea"
      },
      "source": [
        "# Declaracion del objeto de regresion lineal\n",
        "linear_regression = LinearRegression()\n",
        "# Entrenamiento del modelo\n",
        "linear_regression.fit(data_x, data_y)"
      ],
      "execution_count": null,
      "outputs": [
        {
          "output_type": "execute_result",
          "data": {
            "text/plain": [
              "LinearRegression(copy_X=True, fit_intercept=True, n_jobs=None, normalize=False)"
            ]
          },
          "metadata": {
            "tags": []
          },
          "execution_count": 100
        }
      ]
    },
    {
      "cell_type": "code",
      "metadata": {
        "colab": {
          "base_uri": "https://localhost:8080/"
        },
        "id": "pRA2K4CVC95J",
        "outputId": "10fe95a5-89ee-409c-97fa-eaa2fc0d10f1"
      },
      "source": [
        "linear_regression.coef_"
      ],
      "execution_count": null,
      "outputs": [
        {
          "output_type": "execute_result",
          "data": {
            "text/plain": [
              "array([[0.00263644]])"
            ]
          },
          "metadata": {
            "tags": []
          },
          "execution_count": 75
        }
      ]
    },
    {
      "cell_type": "code",
      "metadata": {
        "id": "FwASvQ0eYYqr"
      },
      "source": [
        "filter_apple1 = df['symbol'] == 'AAPL'\n",
        "df_apple1 = df[filter_apple]\n",
        "dt = df_apple1.date.map(dejar_solo_cifras)"
      ],
      "execution_count": null,
      "outputs": []
    },
    {
      "cell_type": "code",
      "metadata": {
        "colab": {
          "base_uri": "https://localhost:8080/"
        },
        "id": "gLbTegj3aiHb",
        "outputId": "9ad9d5c2-b22f-4d60-b237-17270dbe6d59"
      },
      "source": [
        "dt.iloc[::-1].head(120).astype(float)"
      ],
      "execution_count": null,
      "outputs": [
        {
          "output_type": "execute_result",
          "data": {
            "text/plain": [
              "12994    20150102.0\n",
              "12993    20150105.0\n",
              "12992    20150106.0\n",
              "12991    20150107.0\n",
              "12990    20150108.0\n",
              "            ...    \n",
              "12879    20150618.0\n",
              "12878    20150619.0\n",
              "12877    20150622.0\n",
              "12876    20150623.0\n",
              "12875    20150624.0\n",
              "Name: date, Length: 120, dtype: float64"
            ]
          },
          "metadata": {
            "tags": []
          },
          "execution_count": 209
        }
      ]
    },
    {
      "cell_type": "code",
      "metadata": {
        "colab": {
          "base_uri": "https://localhost:8080/",
          "height": 605
        },
        "id": "vYFHHzKOGwdJ",
        "outputId": "cd12e5c0-b3ce-4237-ad91-9517902db710"
      },
      "source": [
        "with plt.style.context('dark_background'): \n",
        "  x = dt.iloc[::-1].head(120).astype(float)\n",
        "  y =  df_apple['close'].iloc[::-1].head(120)\n",
        "  mymodel = np.poly1d(np.polyfit(x,y,2)) \n",
        "  myline = np.linspace(20150102.0, 20150624.0, 100)\n",
        "  fig, ax = plt.subplots(figsize=(12,10))\n",
        "  plt.scatter(x, y, c= 'g')\n",
        "  plt.plot(myline, mymodel(myline), c='r')\n",
        "  plt.grid(axis='both')\n",
        "  plt.show()"
      ],
      "execution_count": null,
      "outputs": [
        {
          "output_type": "display_data",
          "data": {
            "image/png": "[encoded data removed]",
            "text/plain": [
              "<Figure size 864x720 with 1 Axes>"
            ]
          },
          "metadata": {
            "tags": []
          }
        }
      ]
    },
    {
      "cell_type": "code",
      "metadata": {
        "colab": {
          "base_uri": "https://localhost:8080/"
        },
        "id": "8nEW7qxoFQdC",
        "outputId": "15ba467a-bc2c-4549-bb85-53fa01222b78"
      },
      "source": [
        "y_pred"
      ],
      "execution_count": null,
      "outputs": [
        {
          "output_type": "execute_result",
          "data": {
            "text/plain": [
              "array([[132.00333393],\n",
              "       [210.82770195],\n",
              "       [103.50075039],\n",
              "       [156.02396464],\n",
              "       [185.2542064 ],\n",
              "       [184.70055341],\n",
              "       [103.48229529],\n",
              "       [183.38760487],\n",
              "       [184.98528923],\n",
              "       [236.38537884],\n",
              "       [131.72914387],\n",
              "       [104.00694741],\n",
              "       [105.65472419],\n",
              "       [156.76744152],\n",
              "       [208.72909345],\n",
              "       [129.64635403],\n",
              "       [208.69218325],\n",
              "       [209.76257904],\n",
              "       [104.04122117],\n",
              "       [158.87923223]])"
            ]
          },
          "metadata": {
            "tags": []
          },
          "execution_count": 212
        }
      ]
    },
    {
      "cell_type": "code",
      "metadata": {
        "id": "DQnJT_ZXDAl2"
      },
      "source": [
        "y_pred = linear_regression.predict(x_test)"
      ],
      "execution_count": null,
      "outputs": []
    },
    {
      "cell_type": "code",
      "metadata": {
        "colab": {
          "base_uri": "https://localhost:8080/",
          "height": 502
        },
        "id": "cTiPFDwhDYG-",
        "outputId": "1dc5557a-fa7b-4e63-e3d8-33862d930c14"
      },
      "source": [
        "with plt.style.context('dark_background'): \n",
        "  array = np.concatenate((y_test, y_pred), axis = 1)\n",
        "  data = pd.DataFrame(array, columns=['Test', 'Prediction'])\n",
        "  data.head(15).plot(kind='bar',figsize=(16,8))\n",
        "  plt.title('Apple Stock Prediction using Linear Regression')\n",
        "  plt.show()"
      ],
      "execution_count": 215,
      "outputs": [
        {
          "output_type": "display_data",
          "data": {
            "image/png": "[encoded data removed]",
            "text/plain": [
              "<Figure size 1152x576 with 1 Axes>"
            ]
          },
          "metadata": {
            "tags": []
          }
        }
      ]
    }
  ]
}