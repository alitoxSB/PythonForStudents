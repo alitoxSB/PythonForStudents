{
  "nbformat": 4,
  "nbformat_minor": 0,
  "metadata": {
    "colab": {
      "name": "ArrhythmiaDetection.ipynb",
      "provenance": []
    },
    "kernelspec": {
      "name": "python3",
      "display_name": "Python 3"
    },
    "language_info": {
      "name": "python"
    }
  },
  "cells": [
    {
      "cell_type": "code",
      "execution_count": 1,
      "metadata": {
        "id": "QdS5QxgaLhmQ"
      },
      "outputs": [],
      "source": [
        "import numpy as np \n",
        "import pandas as pd \n",
        "import os\n",
        "for dirname, _, filenames in os.walk('/kaggle/input'):\n",
        "    for filename in filenames:\n",
        "        print(os.path.join(dirname, filename))"
      ]
    },
    {
      "cell_type": "code",
      "source": [
        "import math\n",
        "import random\n",
        "import pickle\n",
        "import itertools\n",
        "\n",
        "import numpy as np # linear algebra\n",
        "import pandas as pd # data processing, CSV file I/O (e.g. pd.read_csv)\n",
        "\n",
        "from sklearn.metrics import accuracy_score, classification_report, confusion_matrix, label_ranking_average_precision_score, label_ranking_loss, coverage_error \n",
        "\n",
        "from sklearn.utils import shuffle\n",
        "\n",
        "from scipy.signal import resample\n",
        "\n",
        "import matplotlib.pyplot as plt\n",
        "\n",
        "np.random.seed(42)\n",
        "\n",
        "import pickle\n",
        "from sklearn.preprocessing import OneHotEncoder\n",
        "\n",
        "\n",
        "\n",
        "\n",
        "from keras.models import Model\n",
        "from keras.layers import Input, Dense, Conv1D, MaxPooling1D, Softmax, Add, Flatten, Activation# , Dropout\n",
        "from keras import backend as K\n",
        "#from keras.optimizers import Adam\n",
        "from keras.callbacks import LearningRateScheduler, ModelCheckpoint\n",
        "\n",
        "\n",
        "\n",
        "\n",
        "import numpy as np\n",
        "import pandas as pd\n",
        "import seaborn as sns\n",
        "import matplotlib.pyplot as plt\n",
        "from sklearn.metrics import classification_report\n",
        "from sklearn.model_selection import train_test_split\n",
        "from sklearn.metrics import f1_score\n",
        "from sklearn.metrics import confusion_matrix\n",
        "import math\n",
        "import random\n",
        "import pickle\n",
        "import itertools\n",
        "import numpy as np \n",
        "import pandas as pd \n",
        "import matplotlib.pyplot as plt\n",
        "np.random.seed(42)\n",
        "import tensorflow as tf\n",
        "import tensorflow.keras as keras"
      ],
      "metadata": {
        "id": "ClhPlgKvUz3g"
      },
      "execution_count": 3,
      "outputs": []
    },
    {
      "cell_type": "code",
      "source": [
        "print(os.getcwd())"
      ],
      "metadata": {
        "colab": {
          "base_uri": "https://localhost:8080/"
        },
        "id": "ZGVDzRBeU3O_",
        "outputId": "1a9a1dd6-f6a8-4ab8-827e-54c01ddfde66"
      },
      "execution_count": 4,
      "outputs": [
        {
          "output_type": "stream",
          "name": "stdout",
          "text": [
            "/content\n"
          ]
        }
      ]
    },
    {
      "cell_type": "code",
      "source": [
        "mit_test_data = pd.read_csv(\"kaggle/input/mitbih_test.csv\", header=None)\n",
        "mit_train_data = pd.read_csv(\"kaggle/input/mitbih_train.csv\", header=None)"
      ],
      "metadata": {
        "id": "n1vfSSwRU-rI"
      },
      "execution_count": 7,
      "outputs": []
    },
    {
      "cell_type": "code",
      "source": [
        "from sklearn.utils import resample\n",
        "\n",
        "df_1=mit_train_data[mit_train_data[187]==1]\n",
        "df_2=mit_train_data[mit_train_data[187]==2]\n",
        "df_3=mit_train_data[mit_train_data[187]==3]\n",
        "df_4=mit_train_data[mit_train_data[187]==4]\n",
        "df_0=(mit_train_data[mit_train_data[187]==0]).sample(n=20000,random_state=42)\n",
        "\n",
        "df_1_upsample=resample(df_1,replace=True,n_samples=20000,random_state=123)\n",
        "df_2_upsample=resample(df_2,replace=True,n_samples=20000,random_state=124)\n",
        "df_3_upsample=resample(df_3,replace=True,n_samples=20000,random_state=125)\n",
        "df_4_upsample=resample(df_4,replace=True,n_samples=20000,random_state=126)\n",
        "\n",
        "train_df=pd.concat([df_0,df_1_upsample,df_2_upsample,df_3_upsample,df_4_upsample])\n",
        "\n",
        "\n",
        "df_11=mit_test_data[mit_train_data[187]==1]\n",
        "df_22=mit_test_data[mit_train_data[187]==2]\n",
        "df_33=mit_test_data[mit_train_data[187]==3]\n",
        "df_44=mit_test_data[mit_train_data[187]==4]\n",
        "df_00=(mit_test_data[mit_train_data[187]==0]).sample(n=20000,random_state=42)\n",
        "\n",
        "df_11_upsample=resample(df_1,replace=True,n_samples=20000,random_state=123)\n",
        "df_22_upsample=resample(df_2,replace=True,n_samples=20000,random_state=124)\n",
        "df_33_upsample=resample(df_3,replace=True,n_samples=20000,random_state=125)\n",
        "df_44_upsample=resample(df_4,replace=True,n_samples=20000,random_state=126)\n",
        "\n",
        "test_df=pd.concat([df_00,df_11_upsample,df_22_upsample,df_33_upsample,df_44_upsample])\n",
        "\n",
        "\n",
        "equilibre=train_df[187].value_counts()\n",
        "print(equilibre)"
      ],
      "metadata": {
        "colab": {
          "base_uri": "https://localhost:8080/"
        },
        "id": "JnTRUTKDVPWf",
        "outputId": "d3371fc5-fe59-4de6-8aff-5560ac107157"
      },
      "execution_count": 8,
      "outputs": [
        {
          "output_type": "stream",
          "name": "stderr",
          "text": [
            "/usr/local/lib/python3.7/dist-packages/ipykernel_launcher.py:17: UserWarning: Boolean Series key will be reindexed to match DataFrame index.\n",
            "/usr/local/lib/python3.7/dist-packages/ipykernel_launcher.py:18: UserWarning: Boolean Series key will be reindexed to match DataFrame index.\n",
            "/usr/local/lib/python3.7/dist-packages/ipykernel_launcher.py:19: UserWarning: Boolean Series key will be reindexed to match DataFrame index.\n",
            "/usr/local/lib/python3.7/dist-packages/ipykernel_launcher.py:20: UserWarning: Boolean Series key will be reindexed to match DataFrame index.\n",
            "/usr/local/lib/python3.7/dist-packages/ipykernel_launcher.py:21: UserWarning: Boolean Series key will be reindexed to match DataFrame index.\n"
          ]
        },
        {
          "output_type": "stream",
          "name": "stdout",
          "text": [
            "0.0    20000\n",
            "1.0    20000\n",
            "2.0    20000\n",
            "3.0    20000\n",
            "4.0    20000\n",
            "Name: 187, dtype: int64\n"
          ]
        }
      ]
    },
    {
      "cell_type": "code",
      "source": [
        "print(\"ALL Train data\")\n",
        "print(\"Type\\tCount\")\n",
        "print((mit_train_data[187]).value_counts())\n",
        "print(\"-------------------------\")\n",
        "print(\"ALL Test data\")\n",
        "print(\"Type\\tCount\")\n",
        "print((mit_test_data[187]).value_counts())\n",
        "\n",
        "print(\"ALL Balanced Train data\")\n",
        "print(\"Type\\tCount\")\n",
        "print((train_df[187]).value_counts())\n",
        "print(\"-------------------------\")\n",
        "print(\"ALL Balanced Test data\")\n",
        "print(\"Type\\tCount\")\n",
        "print((train_df[187]).value_counts())"
      ],
      "metadata": {
        "colab": {
          "base_uri": "https://localhost:8080/"
        },
        "id": "TE-OPeX_VQZL",
        "outputId": "f07a525d-e81e-413f-9e14-0380430f4fa5"
      },
      "execution_count": 9,
      "outputs": [
        {
          "output_type": "stream",
          "name": "stdout",
          "text": [
            "ALL Train data\n",
            "Type\tCount\n",
            "0.0    72471\n",
            "4.0     6431\n",
            "2.0     5788\n",
            "1.0     2223\n",
            "3.0      641\n",
            "Name: 187, dtype: int64\n",
            "-------------------------\n",
            "ALL Test data\n",
            "Type\tCount\n",
            "0.0    18118\n",
            "4.0     1608\n",
            "2.0     1448\n",
            "1.0      556\n",
            "3.0      162\n",
            "Name: 187, dtype: int64\n",
            "ALL Balanced Train data\n",
            "Type\tCount\n",
            "0.0    20000\n",
            "1.0    20000\n",
            "2.0    20000\n",
            "3.0    20000\n",
            "4.0    20000\n",
            "Name: 187, dtype: int64\n",
            "-------------------------\n",
            "ALL Balanced Test data\n",
            "Type\tCount\n",
            "0.0    20000\n",
            "1.0    20000\n",
            "2.0    20000\n",
            "3.0    20000\n",
            "4.0    20000\n",
            "Name: 187, dtype: int64\n"
          ]
        }
      ]
    },
    {
      "cell_type": "code",
      "source": [
        "test = pd.read_csv(\"kaggle/input/mitbih_test.csv\", header=None)\n",
        "test = test.iloc[0,0:len(test.T)-1] # Remove last line cause it might be a Nan\n",
        "test = pd.DataFrame(test)\n",
        "# NORMALIZING TEST DATA AMPLITUDE\n",
        "from sklearn.preprocessing import MinMaxScaler\n",
        "# load the dataset and print the first 5 rows\n",
        "# prepare data for normalization\n",
        "values = test.values\n",
        "scaler = MinMaxScaler(feature_range=(0, 1))\n",
        "scaler = scaler.fit(values)\n",
        "normalized = scaler.transform(values)\n",
        "normalized = pd.DataFrame(normalized)\n",
        "normalized"
      ],
      "metadata": {
        "id": "ytB3htAbVVJJ"
      },
      "execution_count": null,
      "outputs": []
    },
    {
      "cell_type": "code",
      "source": [
        "from keras.datasets import imdb\n",
        "from keras.models import Sequential\n",
        "from keras.layers import Dense\n",
        "from keras.layers import LSTM\n",
        "from keras.layers import Bidirectional\n",
        "from keras.layers.embeddings import Embedding\n",
        "from keras.preprocessing import sequence\n",
        "\n",
        "np.random.seed(7)"
      ],
      "metadata": {
        "id": "xQaKJx-1Vdj7"
      },
      "execution_count": 11,
      "outputs": []
    },
    {
      "cell_type": "code",
      "source": [
        "from tensorflow.keras.utils import to_categorical\n",
        "\n",
        "print(\"--- X ---\")\n",
        "# X = mit_train_data.loc[:, mit_train_data.columns != 187]\n",
        "X = train_df.loc[:, mit_train_data.columns != 187]\n",
        "print(X.head())\n",
        "print(X.info())\n",
        "\n",
        "print(\"--- Y ---\")\n",
        "# y = mit_train_data.loc[:, mit_train_data.columns == 187]\n",
        "y = train_df.loc[:, mit_train_data.columns == 187]\n",
        "y = to_categorical(y)\n",
        "\n",
        "print(\"--- testX ---\")\n",
        "#testX = mit_test_data.loc[:, mit_test_data.columns != 187]\n",
        "testX = test_df.loc[:, mit_test_data.columns != 187]\n",
        "print(testX.head())\n",
        "print(testX.info())\n",
        "\n",
        "print(\"--- testy ---\")\n",
        "#testy = mit_test_data.loc[:, mit_test_data.columns == 187]\n",
        "testy = test_df.loc[:, mit_test_data.columns == 187]\n",
        "testy = to_categorical(testy)"
      ],
      "metadata": {
        "colab": {
          "base_uri": "https://localhost:8080/"
        },
        "id": "jr4DUB8FVfr1",
        "outputId": "67542317-8dde-4e7c-cb5e-1a0143195378"
      },
      "execution_count": 15,
      "outputs": [
        {
          "output_type": "stream",
          "name": "stdout",
          "text": [
            "--- X ---\n",
            "            0         1         2         3         4         5         6    \\\n",
            "10153  0.162791  0.540698  0.755814  0.186047  0.168605  0.546512  0.616279   \n",
            "33886  0.990066  0.938742  0.344371  0.034768  0.273179  0.331126  0.326159   \n",
            "32005  0.974239  0.932084  0.590164  0.131148  0.014052  0.168618  0.238876   \n",
            "56159  0.978495  0.723118  0.526882  0.298387  0.220430  0.158602  0.091398   \n",
            "61783  0.963351  0.709424  0.060209  0.013089  0.057592  0.041885  0.047120   \n",
            "\n",
            "            7         8         9    ...  177  178  179  180  181  182  183  \\\n",
            "10153  0.697674  0.651163  0.703488  ...  0.0  0.0  0.0  0.0  0.0  0.0  0.0   \n",
            "33886  0.341060  0.347682  0.347682  ...  0.0  0.0  0.0  0.0  0.0  0.0  0.0   \n",
            "32005  0.210773  0.196721  0.208431  ...  0.0  0.0  0.0  0.0  0.0  0.0  0.0   \n",
            "56159  0.091398  0.080645  0.083333  ...  0.0  0.0  0.0  0.0  0.0  0.0  0.0   \n",
            "61783  0.034031  0.039267  0.044503  ...  0.0  0.0  0.0  0.0  0.0  0.0  0.0   \n",
            "\n",
            "       184  185  186  \n",
            "10153  0.0  0.0  0.0  \n",
            "33886  0.0  0.0  0.0  \n",
            "32005  0.0  0.0  0.0  \n",
            "56159  0.0  0.0  0.0  \n",
            "61783  0.0  0.0  0.0  \n",
            "\n",
            "[5 rows x 187 columns]\n",
            "<class 'pandas.core.frame.DataFrame'>\n",
            "Int64Index: 100000 entries, 10153 to 86696\n",
            "Columns: 187 entries, 0 to 186\n",
            "dtypes: float64(187)\n",
            "memory usage: 143.4 MB\n",
            "None\n",
            "--- Y ---\n",
            "--- testX ---\n",
            "            0         1         2         3         4         5         6    \\\n",
            "17155  0.966581  0.802057  0.077121  0.000000  0.161954  0.244216  0.254499   \n",
            "8157   1.000000  0.644444  0.031111  0.026667  0.151111  0.128889  0.080000   \n",
            "3635   1.000000  0.965318  0.734104  0.462428  0.271676  0.156069  0.150289   \n",
            "19125  1.000000  0.998792  0.960145  0.896135  0.898551  0.873188  0.766908   \n",
            "3002   0.009836  0.000000  0.163934  0.242623  0.327869  0.350820  0.331148   \n",
            "\n",
            "            7         8         9    ...  177  178  179  180  181  182  183  \\\n",
            "17155  0.262211  0.264782  0.272494  ...  0.0  0.0  0.0  0.0  0.0  0.0  0.0   \n",
            "8157   0.080000  0.084444  0.080000  ...  0.0  0.0  0.0  0.0  0.0  0.0  0.0   \n",
            "3635   0.173410  0.173410  0.150289  ...  0.0  0.0  0.0  0.0  0.0  0.0  0.0   \n",
            "19125  0.591787  0.327295  0.252415  ...  0.0  0.0  0.0  0.0  0.0  0.0  0.0   \n",
            "3002   0.331148  0.354098  0.373771  ...  0.0  0.0  0.0  0.0  0.0  0.0  0.0   \n",
            "\n",
            "       184  185  186  \n",
            "17155  0.0  0.0  0.0  \n",
            "8157   0.0  0.0  0.0  \n",
            "3635   0.0  0.0  0.0  \n",
            "19125  0.0  0.0  0.0  \n",
            "3002   0.0  0.0  0.0  \n",
            "\n",
            "[5 rows x 187 columns]\n",
            "<class 'pandas.core.frame.DataFrame'>\n",
            "Int64Index: 100000 entries, 17155 to 86696\n",
            "Columns: 187 entries, 0 to 186\n",
            "dtypes: float64(187)\n",
            "memory usage: 143.4 MB\n",
            "None\n",
            "--- testy ---\n"
          ]
        }
      ]
    },
    {
      "cell_type": "code",
      "source": [
        "def identity_block(X, f, filters, stage, block):\n",
        "   \n",
        "    conv_name_base = 'res' + str(stage) + block + '_branch'\n",
        "    bn_name_base = 'bn' + str(stage) + block + '_branch'\n",
        "    F1, F2, F3 = filters\n",
        "\n",
        "    X_shortcut = X\n",
        "   \n",
        "    X = Conv1D(filters=F1, kernel_size=1, strides=1, padding='valid', name=conv_name_base + '2a', kernel_initializer=glorot_uniform(seed=0))(X)\n",
        "    X = BatchNormalization(axis=2, name=bn_name_base + '2a')(X)\n",
        "    X = Activation('relu')(X)\n",
        "\n",
        "    X = Conv1D(filters=F2, kernel_size=f, strides=1, padding='same', name=conv_name_base + '2b', kernel_initializer=glorot_uniform(seed=0))(X)\n",
        "    X = BatchNormalization(axis=2, name=bn_name_base + '2b')(X)\n",
        "    X = Activation('relu')(X)\n",
        "\n",
        "    X = Conv1D(filters=F3, kernel_size=1, strides=1, padding='valid', name=conv_name_base + '2c', kernel_initializer=glorot_uniform(seed=0))(X)\n",
        "    X = BatchNormalization(axis=2, name=bn_name_base + '2c')(X)\n",
        "\n",
        "    X = Add()([X, X_shortcut])# SKIP Connection\n",
        "    X = Activation('relu')(X)\n",
        "\n",
        "    return X"
      ],
      "metadata": {
        "id": "WsdgeyC3YxJg"
      },
      "execution_count": 16,
      "outputs": []
    },
    {
      "cell_type": "code",
      "source": [
        "def convolutional_block(X, f, filters, stage, block, s=2):\n",
        "   \n",
        "    conv_name_base = 'res' + str(stage) + block + '_branch'\n",
        "    bn_name_base = 'bn' + str(stage) + block + '_branch'\n",
        "\n",
        "    F1, F2, F3 = filters\n",
        "\n",
        "    X_shortcut = X\n",
        "\n",
        "    X = Conv1D(filters=F1, kernel_size=1, strides=s, padding='valid', name=conv_name_base + '2a', kernel_initializer=glorot_uniform(seed=0))(X)\n",
        "    X = BatchNormalization(axis=2, name=bn_name_base + '2a')(X)\n",
        "    X = Activation('relu')(X)\n",
        "\n",
        "    X = Conv1D(filters=F2, kernel_size=f, strides=1, padding='same', name=conv_name_base + '2b', kernel_initializer=glorot_uniform(seed=0))(X)\n",
        "    X = BatchNormalization(axis=2, name=bn_name_base + '2b')(X)\n",
        "    X = Activation('relu')(X)\n",
        "\n",
        "    X = Conv1D(filters=F3, kernel_size=1, strides=1, padding='valid', name=conv_name_base + '2c', kernel_initializer=glorot_uniform(seed=0))(X)\n",
        "    X = BatchNormalization(axis=2, name=bn_name_base + '2c')(X)\n",
        "\n",
        "    X_shortcut = Conv1D(filters=F3, kernel_size=1, strides=s, padding='valid', name=conv_name_base + '1', kernel_initializer=glorot_uniform(seed=0))(X_shortcut)\n",
        "    X_shortcut = BatchNormalization(axis=2, name=bn_name_base + '1')(X_shortcut)\n",
        "\n",
        "    X = Add()([X, X_shortcut])\n",
        "    X = Activation('relu')(X)\n",
        "\n",
        "    return X\n",
        "    X_input = Input(input_shape)\n",
        "\n",
        "    X = ZeroPadding1D(3)(X_input)\n",
        "\n",
        "    X = Conv1D(64, 7, strides=2, name='conv1', kernel_initializer=glorot_uniform(seed=0))(X)\n",
        "    X = BatchNormalization(axis=2, name='bn_conv1')(X)\n",
        "    X = Activation('relu')(X)\n",
        "    X = MaxPooling1D(3, strides= 2)(X)\n",
        "\n",
        "    X = convolutional_block(X, f=3, filters=[128, 128, 256], stage=2, block='a', s=1)\n",
        "    X = identity_block(X, 3, [128, 128, 256], stage=2, block='b')\n",
        "    X = identity_block(X, 3, [128, 128, 256], stage=2, block='c')\n",
        "\n",
        "\n",
        "    X = convolutional_block(X, f=3, filters=[128, 128, 512], stage=3, block='a', s=2)\n",
        "    X = identity_block(X, 3, [128, 128, 512], stage=3, block='b')\n",
        "    X = identity_block(X, 3, [128, 128, 512], stage=3, block='c')\n",
        "    X = identity_block(X, 3, [128, 128, 512], stage=3, block='d')\n",
        "\n",
        "    X = convolutional_block(X, f=3, filters=[256, 256, 1024], stage=4, block='a', s=2)\n",
        "    X = identity_block(X, 3, [256, 256, 1024], stage=4, block='b')\n",
        "    X = identity_block(X, 3, [256, 256, 1024], stage=4, block='c')\n",
        "    X = identity_block(X, 3, [256, 256, 1024], stage=4, block='d')\n",
        "    X = identity_block(X, 3, [256, 256, 1024], stage=4, block='e')\n",
        "    X = identity_block(X, 3, [256, 256, 1024], stage=4, block='f')\n",
        "\n",
        "    X = X = convolutional_block(X, f=3, filters=[512, 512, 2048], stage=5, block='a', s=2)\n",
        "    X = identity_block(X, 3, [512, 512, 2048], stage=5, block='b')\n",
        "    X = identity_block(X, 3, [512, 512, 2048], stage=5, block='c')\n",
        "\n",
        "    X = AveragePooling1D(pool_size= 2, padding='same')(X)\n",
        "    \n",
        "    model = Model(inputs=X_input, outputs=X, name='ResNet')\n",
        "    \n",
        "    \n",
        "    \n",
        "    model.add(Conv1D(32,7, padding='same', input_shape=input_shape))\n",
        "    model.add(BatchNormalization())\n",
        "    model.add(tf.keras.layers.ReLU())\n",
        "    model.add(MaxPool1D(5,padding='same'))\n",
        "\n",
        "    model.add(Conv1D(64,7, padding='same'))\n",
        "    model.add(BatchNormalization())\n",
        "    model.add(tf.keras.layers.ReLU())\n",
        "    model.add(MaxPool1D(5,padding='same'))\n",
        "\n",
        "    model.add(Conv1D(128,7, padding='same'))\n",
        "    model.add(BatchNormalization())\n",
        "    model.add(tf.keras.layers.ReLU())\n",
        "    model.add(MaxPool1D(5,padding='same'))\n",
        "\n",
        "    model.add(Conv1D(256,7, padding='same'))\n",
        "    model.add(BatchNormalization())\n",
        "    model.add(tf.keras.layers.ReLU())\n",
        "    model.add(MaxPool1D(5,padding='same'))\n",
        "    \n",
        "    model.add(Conv1D(512,7, padding='same'))\n",
        "    model.add(BatchNormalization())\n",
        "    model.add(tf.keras.layers.ReLU())\n",
        "    model.add(MaxPool1D(5,padding='same'))\n",
        "\n",
        "    model.add(Flatten())\n",
        "    model.add(Dense(512, activation='relu'))\n",
        "    model.add(Dropout(0.5))\n",
        "    model.add(Dense(256, activation='relu'))\n",
        "    model.add(Dropout(0.5))\n",
        "    model.add(Dense(128, activation='relu'))\n",
        "    model.add(Dropout(0.5))\n",
        "    model.add(Dense(64, activation='relu'))\n",
        "    model.add(Dense(32, activation='relu'))\n",
        "    model.add(Dense(5, activation=\"softmax\"))\n",
        "    model.compile(optimizer=\"adam\", loss=\"categorical_crossentropy\", metrics=[tfa.metrics.F1Score(5,\"micro\")])\n",
        "    \n",
        "    return model"
      ],
      "metadata": {
        "id": "llCjsrfqY4TN"
      },
      "execution_count": 17,
      "outputs": []
    },
    {
      "cell_type": "code",
      "source": [
        "# create the model.\n",
        "from keras.callbacks import History \n",
        "history = History()\n",
        "embedding_vecor_length = 187\n",
        "\n",
        "model = Sequential()\n",
        "\n",
        "model.add(Dense(50, activation='relu', input_shape=(187,)))\n",
        "model.add(Dense(50, activation='relu'))\n",
        "model.add(Dense(5, activation='softmax'))\n",
        "\n",
        "model.compile(optimizer='adam',\n",
        "              loss='categorical_crossentropy',\n",
        "              metrics=['accuracy'])\n",
        "\n",
        "history=model.fit(X, y, epochs=20)\n",
        "\n",
        "print(\"Evaluation: \")\n",
        "mse, acc = model.evaluate(testX, testy)\n",
        "print('mean_squared_error :', mse)\n",
        "print('accuracy:', acc)"
      ],
      "metadata": {
        "colab": {
          "base_uri": "https://localhost:8080/"
        },
        "id": "KAiAO1IRZG4d",
        "outputId": "2d933de4-db99-4e91-aeee-ad01453f30a9"
      },
      "execution_count": 18,
      "outputs": [
        {
          "output_type": "stream",
          "name": "stdout",
          "text": [
            "Epoch 1/20\n",
            "3125/3125 [==============================] - 9s 2ms/step - loss: 0.4828 - accuracy: 0.8233\n",
            "Epoch 2/20\n",
            "3125/3125 [==============================] - 6s 2ms/step - loss: 0.3035 - accuracy: 0.8908\n",
            "Epoch 3/20\n",
            "3125/3125 [==============================] - 7s 2ms/step - loss: 0.2412 - accuracy: 0.9120\n",
            "Epoch 4/20\n",
            "3125/3125 [==============================] - 7s 2ms/step - loss: 0.2032 - accuracy: 0.9268\n",
            "Epoch 5/20\n",
            "3125/3125 [==============================] - 7s 2ms/step - loss: 0.1760 - accuracy: 0.9385\n",
            "Epoch 6/20\n",
            "3125/3125 [==============================] - 8s 2ms/step - loss: 0.1556 - accuracy: 0.9464\n",
            "Epoch 7/20\n",
            "3125/3125 [==============================] - 8s 3ms/step - loss: 0.1407 - accuracy: 0.9521\n",
            "Epoch 8/20\n",
            "3125/3125 [==============================] - 7s 2ms/step - loss: 0.1291 - accuracy: 0.9564\n",
            "Epoch 9/20\n",
            "3125/3125 [==============================] - 6s 2ms/step - loss: 0.1209 - accuracy: 0.9592\n",
            "Epoch 10/20\n",
            "3125/3125 [==============================] - 6s 2ms/step - loss: 0.1118 - accuracy: 0.9629\n",
            "Epoch 11/20\n",
            "3125/3125 [==============================] - 6s 2ms/step - loss: 0.1041 - accuracy: 0.9647\n",
            "Epoch 12/20\n",
            "3125/3125 [==============================] - 6s 2ms/step - loss: 0.0992 - accuracy: 0.9670\n",
            "Epoch 13/20\n",
            "3125/3125 [==============================] - 6s 2ms/step - loss: 0.0927 - accuracy: 0.9697\n",
            "Epoch 14/20\n",
            "3125/3125 [==============================] - 7s 2ms/step - loss: 0.0880 - accuracy: 0.9709\n",
            "Epoch 15/20\n",
            "3125/3125 [==============================] - 7s 2ms/step - loss: 0.0837 - accuracy: 0.9726\n",
            "Epoch 16/20\n",
            "3125/3125 [==============================] - 7s 2ms/step - loss: 0.0814 - accuracy: 0.9733\n",
            "Epoch 17/20\n",
            "3125/3125 [==============================] - 6s 2ms/step - loss: 0.0768 - accuracy: 0.9750\n",
            "Epoch 18/20\n",
            "3125/3125 [==============================] - 7s 2ms/step - loss: 0.0741 - accuracy: 0.9757\n",
            "Epoch 19/20\n",
            "3125/3125 [==============================] - 7s 2ms/step - loss: 0.0712 - accuracy: 0.9770\n",
            "Epoch 20/20\n",
            "3125/3125 [==============================] - 7s 2ms/step - loss: 0.0689 - accuracy: 0.9777\n",
            "Evaluation: \n",
            "3125/3125 [==============================] - 5s 2ms/step - loss: 0.0916 - accuracy: 0.9724\n",
            "mean_squared_error : 0.09155673533678055\n",
            "accuracy: 0.9723700284957886\n"
          ]
        }
      ]
    },
    {
      "cell_type": "code",
      "source": [
        "print(history.history.keys())\n",
        "# summarize history for accuracy\n",
        "plt.plot(history.history['accuracy'])\n",
        "plt.title('model accuracy')\n",
        "plt.ylabel('accuracy')\n",
        "plt.xlabel('epoch')\n",
        "plt.legend(['train', 'test'], loc='upper left')\n",
        "plt.show()\n",
        "# summarize history for loss\n",
        "plt.plot(history.history['loss'])\n",
        "\n",
        "plt.title('model loss')\n",
        "plt.ylabel('loss')\n",
        "plt.xlabel('epoch')\n",
        "plt.legend(['train', 'test'], loc='upper left')\n",
        "plt.show()"
      ],
      "metadata": {
        "colab": {
          "base_uri": "https://localhost:8080/",
          "height": 590
        },
        "id": "m1tqQaLNZ3CP",
        "outputId": "358af217-d766-41a4-cae4-e5cd0f960c22"
      },
      "execution_count": 19,
      "outputs": [
        {
          "output_type": "stream",
          "name": "stdout",
          "text": [
            "dict_keys(['loss', 'accuracy'])\n"
          ]
        },
        {
          "output_type": "display_data",
          "data": {
            "text/plain": [
              "<Figure size 432x288 with 1 Axes>"
            ],
            "image/png": "[encoded data removed]"
          },
          "metadata": {
            "needs_background": "light"
          }
        },
        {
          "output_type": "display_data",
          "data": {
            "text/plain": [
              "<Figure size 432x288 with 1 Axes>"
            ],
            "image/png": "[encoded data removed]"
          },
          "metadata": {
            "needs_background": "light"
          }
        }
      ]
    },
    {
      "cell_type": "code",
      "source": [
        "y_pred = model.predict(testX, batch_size=1000)\n",
        "\n",
        "from sklearn.metrics import accuracy_score, classification_report, confusion_matrix, label_ranking_average_precision_score, label_ranking_loss, coverage_error \n",
        "\n",
        "print(classification_report(testy.argmax(axis=1), y_pred.argmax(axis=1)))"
      ],
      "metadata": {
        "colab": {
          "base_uri": "https://localhost:8080/"
        },
        "id": "YK8UbvLOZ75Y",
        "outputId": "31ac052e-f5f9-47d7-b097-9b18329e577a"
      },
      "execution_count": 20,
      "outputs": [
        {
          "output_type": "stream",
          "name": "stdout",
          "text": [
            "              precision    recall  f1-score   support\n",
            "\n",
            "           0       0.95      0.92      0.94     16569\n",
            "           1       0.97      0.97      0.97     20513\n",
            "           2       0.98      0.97      0.98     21320\n",
            "           3       0.96      0.99      0.98     20147\n",
            "           4       0.99      1.00      0.99     21451\n",
            "\n",
            "    accuracy                           0.97    100000\n",
            "   macro avg       0.97      0.97      0.97    100000\n",
            "weighted avg       0.97      0.97      0.97    100000\n",
            "\n"
          ]
        }
      ]
    },
    {
      "cell_type": "code",
      "source": [
        "test.to_csv(\"new_data.csv\")"
      ],
      "metadata": {
        "id": "rjG95IoIaDLm"
      },
      "execution_count": 21,
      "outputs": []
    },
    {
      "cell_type": "code",
      "source": [
        "test = pd.read_csv(\"new_data.csv\")"
      ],
      "metadata": {
        "id": "dkWF1JwNaFEu"
      },
      "execution_count": 22,
      "outputs": []
    },
    {
      "cell_type": "code",
      "source": [
        "test"
      ],
      "metadata": {
        "id": "n5ZbXxT6aKHw"
      },
      "execution_count": null,
      "outputs": []
    }
  ]
}