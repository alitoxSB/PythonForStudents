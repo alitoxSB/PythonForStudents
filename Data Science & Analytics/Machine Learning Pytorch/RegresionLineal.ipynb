{
  "nbformat": 4,
  "nbformat_minor": 0,
  "metadata": {
    "colab": {
      "name": "Untitled1.ipynb",
      "provenance": []
    },
    "kernelspec": {
      "name": "python3",
      "display_name": "Python 3"
    }
  },
  "cells": [
    {
      "cell_type": "markdown",
      "metadata": {
        "id": "hlGgh14b9MwG",
        "colab_type": "text"
      },
      "source": [
        "### Implementación de regresión lineal en Pytorch, Regresión logística, Implementación de regresión logística en Pytorch.\n"
      ]
    },
    {
      "cell_type": "code",
      "metadata": {
        "id": "ZQv7Jc3N9RVs",
        "colab_type": "code",
        "colab": {}
      },
      "source": [
        "import torch\n",
        "import numpy as np # Necesario para trabajar con arreglos\n",
        "import torch.nn as nn # Modulos de pytorch (redes neuronales) / relacion lineal\n",
        "import torch.optim as optim # Modulo de optimizacion, necesario para calcular gradientes y hacer backpropagation\n",
        "\n",
        "import matplotlib.pyplot as plt\n",
        "\n"
      ],
      "execution_count": 0,
      "outputs": []
    },
    {
      "cell_type": "markdown",
      "metadata": {
        "id": "BgAsMHGOvZs2",
        "colab_type": "text"
      },
      "source": [
        "### Regresion Lineal"
      ]
    },
    {
      "cell_type": "code",
      "metadata": {
        "id": "u4MzrIQWvfKX",
        "colab_type": "code",
        "colab": {
          "base_uri": "https://localhost:8080/",
          "height": 282
        },
        "outputId": "214fac85-06ee-44bc-8a0e-620ffc0e297d"
      },
      "source": [
        "car_prices = [5, 6, 7, 8, 9, 10]\n",
        "units_sold = [8.5, 8, 7.5, 7.0, 6.5, 6.0]\n",
        "\n",
        "plt.scatter(car_prices, units_sold) # Visualizacion de los datos"
      ],
      "execution_count": 25,
      "outputs": [
        {
          "output_type": "execute_result",
          "data": {
            "text/plain": [
              "<matplotlib.collections.PathCollection at 0x7f734e5e7208>"
            ]
          },
          "metadata": {
            "tags": []
          },
          "execution_count": 25
        },
        {
          "output_type": "display_data",
          "data": {
            "image/png": "[encoded data removed]",
            "text/plain": [
              "<Figure size 432x288 with 1 Axes>"
            ]
          },
          "metadata": {
            "tags": []
          }
        }
      ]
    },
    {
      "cell_type": "code",
      "metadata": {
        "id": "OFfeq1Qw04AQ",
        "colab_type": "code",
        "colab": {}
      },
      "source": [
        "prices_array = np.array(car_prices).reshape(-1, 1) # Convertimos a arreglo de numpy y le damos un formato diferente.\n",
        "units_array = np.array(units_sold).reshape(-1, 1) # Convertimos a arreglo de numpy y le damos un formato diferente."
      ],
      "execution_count": 0,
      "outputs": []
    },
    {
      "cell_type": "code",
      "metadata": {
        "id": "n8fydxPG1NV4",
        "colab_type": "code",
        "colab": {
          "base_uri": "https://localhost:8080/",
          "height": 119
        },
        "outputId": "81f97306-8b42-4d2d-950c-e5f9c884ccfe"
      },
      "source": [
        "prices_array\n",
        "units_array"
      ],
      "execution_count": 27,
      "outputs": [
        {
          "output_type": "execute_result",
          "data": {
            "text/plain": [
              "array([[8.5],\n",
              "       [8. ],\n",
              "       [7.5],\n",
              "       [7. ],\n",
              "       [6.5],\n",
              "       [6. ]])"
            ]
          },
          "metadata": {
            "tags": []
          },
          "execution_count": 27
        }
      ]
    },
    {
      "cell_type": "code",
      "metadata": {
        "id": "rv4HATwA1lNH",
        "colab_type": "code",
        "colab": {}
      },
      "source": [
        "prices = torch.from_numpy(prices_array).float().requires_grad_(True) # Lo convertimos en Tensor. Lo forzamos a que sea float y activamos gradientes."
      ],
      "execution_count": 0,
      "outputs": []
    },
    {
      "cell_type": "code",
      "metadata": {
        "id": "jXwX0aZd2GR2",
        "colab_type": "code",
        "colab": {}
      },
      "source": [
        "units = torch.from_numpy(units_array).float().requires_grad_(True) # Lo convertimos en Tensor. Lo forzamos a que sea float y activamos gradientes."
      ],
      "execution_count": 0,
      "outputs": []
    },
    {
      "cell_type": "code",
      "metadata": {
        "id": "AiL1jnr22RTN",
        "colab_type": "code",
        "colab": {
          "base_uri": "https://localhost:8080/",
          "height": 119
        },
        "outputId": "6c8526af-b417-4659-ecda-1b2f21640945"
      },
      "source": [
        "prices, prices.shape"
      ],
      "execution_count": 30,
      "outputs": [
        {
          "output_type": "execute_result",
          "data": {
            "text/plain": [
              "(tensor([[ 5.],\n",
              "         [ 6.],\n",
              "         [ 7.],\n",
              "         [ 8.],\n",
              "         [ 9.],\n",
              "         [10.]], requires_grad=True), torch.Size([6, 1]))"
            ]
          },
          "metadata": {
            "tags": []
          },
          "execution_count": 30
        }
      ]
    },
    {
      "cell_type": "markdown",
      "metadata": {
        "id": "cw0utp9E2dF1",
        "colab_type": "text"
      },
      "source": [
        "### Creacion del modelo"
      ]
    },
    {
      "cell_type": "code",
      "metadata": {
        "id": "CYtkqxEx2cpN",
        "colab_type": "code",
        "colab": {
          "base_uri": "https://localhost:8080/",
          "height": 299
        },
        "outputId": "be39cc44-00cd-4e9c-cb7e-713a8fd4b68f"
      },
      "source": [
        "model = nn.Linear(1, 1) # Metodo Linear recibe el tamaño de entrada de la dimensión\n",
        "\n",
        "loss_function = nn.MSELoss() # Media del cuadrado de los errores.\n",
        "\n",
        "optimizer = optim.SGD(model.parameters(), lr = 0.015) #Stocastic Gradient Descent\n",
        "\n",
        "losses = []\n",
        "iterations = 2000 # Iteraciones del entrenamiento\n",
        "\n",
        "for i in range(iterations): # Tranning loop de las iteraciones\n",
        "  pred = model(prices)\n",
        "  loss = loss_function(pred, units)\n",
        "  losses.append(loss.data)\n",
        "  \n",
        "  optimizer.zero_grad()\n",
        "  loss.backward()\n",
        "  optimizer.step()\n",
        "\n",
        "print(float(loss))\n",
        "plt.plot(range(iterations), losses)\n",
        "\n"
      ],
      "execution_count": 37,
      "outputs": [
        {
          "output_type": "stream",
          "text": [
            "0.019882366061210632\n"
          ],
          "name": "stdout"
        },
        {
          "output_type": "execute_result",
          "data": {
            "text/plain": [
              "[<matplotlib.lines.Line2D at 0x7f734d279710>]"
            ]
          },
          "metadata": {
            "tags": []
          },
          "execution_count": 37
        },
        {
          "output_type": "display_data",
          "data": {
            "image/png": "[encoded data removed]",
            "text/plain": [
              "<Figure size 432x288 with 1 Axes>"
            ]
          },
          "metadata": {
            "tags": []
          }
        }
      ]
    },
    {
      "cell_type": "markdown",
      "metadata": {
        "id": "RcgDMFixJqCE",
        "colab_type": "text"
      },
      "source": [
        "### Prediccion"
      ]
    },
    {
      "cell_type": "code",
      "metadata": {
        "id": "z4jmS1yRJsPW",
        "colab_type": "code",
        "colab": {
          "base_uri": "https://localhost:8080/",
          "height": 34
        },
        "outputId": "aad8cb81-569c-452d-d596-abaa5302de93"
      },
      "source": [
        "x = torch.Tensor([[4.0]])\n",
        "p = model(x)\n",
        "p"
      ],
      "execution_count": 38,
      "outputs": [
        {
          "output_type": "execute_result",
          "data": {
            "text/plain": [
              "tensor([[8.6877]], grad_fn=<AddmmBackward>)"
            ]
          },
          "metadata": {
            "tags": []
          },
          "execution_count": 38
        }
      ]
    }
  ]
}