{
  "nbformat": 4,
  "nbformat_minor": 0,
  "metadata": {
    "colab": {
      "name": "Untitled5.ipynb",
      "provenance": [],
      "collapsed_sections": []
    },
    "kernelspec": {
      "name": "python3",
      "display_name": "Python 3"
    }
  },
  "cells": [
    {
      "cell_type": "markdown",
      "metadata": {
        "id": "DZNYw53N3KIT",
        "colab_type": "text"
      },
      "source": [
        ""
      ]
    },
    {
      "cell_type": "markdown",
      "metadata": {
        "id": "UjHCy7AM3THa",
        "colab_type": "text"
      },
      "source": [
        "####Logistic regresion"
      ]
    },
    {
      "cell_type": "code",
      "metadata": {
        "id": "kSM1IU5z3tif",
        "colab_type": "code",
        "colab": {}
      },
      "source": [
        "import torch \n",
        "import numpy as np\n",
        "import matplotlib.pyplot as plt\n",
        "import torch.nn as nn\n",
        "import torch.optim as optim\n"
      ],
      "execution_count": 0,
      "outputs": []
    },
    {
      "cell_type": "code",
      "metadata": {
        "id": "eClc3nWB3IaQ",
        "colab_type": "code",
        "outputId": "cf491ff8-4f6d-495f-ba34-12ad7b05bd2b",
        "colab": {
          "base_uri": "https://localhost:8080/",
          "height": 1000
        }
      },
      "source": [
        "n = 100\n",
        "h = n//2\n",
        "dimen = 2\n",
        "\n",
        "data = np.random.randn(n, dimen)*3\n",
        "data"
      ],
      "execution_count": 46,
      "outputs": [
        {
          "output_type": "execute_result",
          "data": {
            "text/plain": [
              "array([[ 2.12084863e-01,  7.84559029e-01],\n",
              "       [ 1.30635617e+00,  4.77442019e+00],\n",
              "       [ 5.21955009e-01,  3.47158454e+00],\n",
              "       [-4.99246743e-01,  4.31181298e+00],\n",
              "       [-3.35436889e+00,  2.56240436e+00],\n",
              "       [ 2.08368902e+00,  1.34785422e+00],\n",
              "       [-1.46861917e+00, -3.04448784e+00],\n",
              "       [-4.19362462e+00, -5.36144729e+00],\n",
              "       [ 5.95887477e-01,  7.69728132e-02],\n",
              "       [ 1.03150111e+00,  3.78474254e-01],\n",
              "       [-3.06627699e-01,  9.20548262e-01],\n",
              "       [ 4.56367279e+00,  3.19798454e-01],\n",
              "       [ 4.02248375e+00,  4.29687228e+00],\n",
              "       [ 3.79042328e+00, -2.61252108e+00],\n",
              "       [ 2.10008984e+00,  1.28255726e+00],\n",
              "       [-1.74377137e+00, -1.24035369e+00],\n",
              "       [ 1.17630475e+00,  7.17165708e+00],\n",
              "       [ 3.91971076e+00,  5.88143463e+00],\n",
              "       [ 5.50364613e+00,  2.79927164e+00],\n",
              "       [-2.03185794e+00,  8.26849923e-01],\n",
              "       [-3.90520181e+00, -4.60114693e+00],\n",
              "       [-1.52255899e+00,  1.31716410e+00],\n",
              "       [ 1.00573033e-01,  4.07803795e+00],\n",
              "       [-5.17138608e+00,  3.43322688e+00],\n",
              "       [ 2.10293306e+00,  2.21746255e+00],\n",
              "       [ 2.57220814e-01,  6.06097874e-01],\n",
              "       [-1.07422889e+00,  1.65593882e+00],\n",
              "       [-2.06758091e+00,  2.32767212e+00],\n",
              "       [ 6.53509371e-01, -3.44612563e-01],\n",
              "       [ 2.41017301e+00,  5.44887167e+00],\n",
              "       [ 5.24172865e+00, -4.04223771e-01],\n",
              "       [ 4.85630531e+00, -4.97059492e+00],\n",
              "       [-3.56548754e+00,  7.06088778e-01],\n",
              "       [-9.45214970e-01, -1.99745865e+00],\n",
              "       [ 6.16835811e+00,  4.87833983e+00],\n",
              "       [-1.29521472e+00, -1.85573123e+00],\n",
              "       [-1.09777779e+00, -2.40141974e+00],\n",
              "       [-1.14585562e+00, -1.21983646e+00],\n",
              "       [-1.45147798e+00,  2.35003083e+00],\n",
              "       [ 4.54387135e+00, -1.52853476e-02],\n",
              "       [ 6.26765497e-01,  3.68630818e-01],\n",
              "       [-1.05045735e+00, -3.66141639e+00],\n",
              "       [-2.49118111e+00, -3.88495877e-01],\n",
              "       [ 5.93581609e+00,  1.47617517e+00],\n",
              "       [ 1.48738480e+00,  4.30337080e+00],\n",
              "       [-9.84472572e-01,  3.77995733e+00],\n",
              "       [-1.86508232e+00, -2.25768208e+00],\n",
              "       [-1.14074566e+00,  4.35131573e+00],\n",
              "       [-4.20493717e+00, -3.29070443e+00],\n",
              "       [ 2.52755155e+00,  5.35056821e+00],\n",
              "       [-4.28879752e+00,  5.24289538e+00],\n",
              "       [-8.43051234e+00,  2.96669340e+00],\n",
              "       [-3.17900035e+00, -1.64309337e+00],\n",
              "       [-1.35704828e+00,  1.60171030e+00],\n",
              "       [ 4.54262586e+00,  2.15839741e+00],\n",
              "       [-7.72259830e+00,  2.96522606e+00],\n",
              "       [-1.94245105e+00, -8.34704505e+00],\n",
              "       [ 2.22905308e+00,  4.71929063e+00],\n",
              "       [-4.75842853e+00, -1.05088066e+00],\n",
              "       [-7.34230617e-01,  4.56944235e+00],\n",
              "       [-4.14452307e+00, -3.18103398e+00],\n",
              "       [ 2.88792983e+00, -1.16820710e+00],\n",
              "       [-1.22205646e+00, -7.37643731e-01],\n",
              "       [ 2.71538533e+00, -1.73934523e+00],\n",
              "       [ 1.74426863e+00, -8.04439280e-01],\n",
              "       [ 2.05650670e+00, -2.88235126e+00],\n",
              "       [ 1.96022839e+00, -3.85585731e+00],\n",
              "       [ 1.88377247e+00, -5.44066572e-01],\n",
              "       [-7.12412929e-01,  3.97389412e+00],\n",
              "       [-9.69336927e-02, -2.28823736e+00],\n",
              "       [ 3.00464397e-01, -2.04694114e+00],\n",
              "       [-2.82488357e+00,  3.69583716e-01],\n",
              "       [-1.13976628e+00, -2.51045743e-03],\n",
              "       [ 2.88246996e+00,  8.16744678e-01],\n",
              "       [ 4.91843476e+00,  2.87567896e+00],\n",
              "       [ 1.33877692e+00, -5.70587493e+00],\n",
              "       [-2.01126230e+00,  3.00733096e+00],\n",
              "       [-3.92001479e+00,  3.45930888e+00],\n",
              "       [ 7.45536438e+00,  1.41034447e-01],\n",
              "       [-1.74852883e+00, -4.23932181e+00],\n",
              "       [ 6.24397869e+00, -4.31326324e-01],\n",
              "       [ 8.80288944e-01,  7.45530281e+00],\n",
              "       [-1.93544298e-01,  2.83264711e-01],\n",
              "       [-3.76817216e+00,  3.81479974e+00],\n",
              "       [-1.53317032e+00, -9.49042939e-01],\n",
              "       [-8.38259902e-01, -7.52777007e-01],\n",
              "       [ 2.70124624e+00,  2.31230379e-01],\n",
              "       [ 1.53538767e+00,  4.38829834e-01],\n",
              "       [-2.18898167e+00,  1.33115981e+00],\n",
              "       [ 1.01453107e+00, -1.20141205e+00],\n",
              "       [-1.59610034e+00,  1.59293521e+00],\n",
              "       [ 1.92662597e+00, -3.91572749e-01],\n",
              "       [-5.95561082e-01, -3.89737223e+00],\n",
              "       [ 4.29685007e+00,  1.89513691e+00],\n",
              "       [ 1.95327539e+00,  6.26184226e-01],\n",
              "       [ 2.29871028e+00, -9.02597342e-01],\n",
              "       [-1.87181755e+00, -1.26038688e+00],\n",
              "       [ 5.98599723e-01,  2.03083468e+00],\n",
              "       [ 5.65702875e-01, -2.08722004e-02],\n",
              "       [ 4.99293849e-01, -4.52793155e+00]])"
            ]
          },
          "metadata": {
            "tags": []
          },
          "execution_count": 46
        }
      ]
    },
    {
      "cell_type": "code",
      "metadata": {
        "id": "oJQu6FN83P_7",
        "colab_type": "code",
        "outputId": "f9aa7565-cfcc-4d40-c6af-1b82500dbbfe",
        "colab": {
          "base_uri": "https://localhost:8080/",
          "height": 283
        }
      },
      "source": [
        "plt.scatter(data[:, 0], data[:, 1])"
      ],
      "execution_count": 47,
      "outputs": [
        {
          "output_type": "execute_result",
          "data": {
            "text/plain": [
              "<matplotlib.collections.PathCollection at 0x7fbf800ef358>"
            ]
          },
          "metadata": {
            "tags": []
          },
          "execution_count": 47
        },
        {
          "output_type": "display_data",
          "data": {
            "image/png": "[encoded data removed]",
            "text/plain": [
              "<Figure size 432x288 with 1 Axes>"
            ]
          },
          "metadata": {
            "tags": []
          }
        }
      ]
    },
    {
      "cell_type": "markdown",
      "metadata": {
        "id": "FIxFK9SM74CT",
        "colab_type": "text"
      },
      "source": [
        "####Focus group"
      ]
    },
    {
      "cell_type": "code",
      "metadata": {
        "id": "1HSPwcY071rM",
        "colab_type": "code",
        "colab": {}
      },
      "source": [
        "data[:h, :]= data[:h, :] - 3*np.ones((h, dimen))\n",
        "data[h:, :]= data[h:, :] + 3*np.ones((h, dimen))"
      ],
      "execution_count": 0,
      "outputs": []
    },
    {
      "cell_type": "code",
      "metadata": {
        "id": "2DxvhtLS8d-K",
        "colab_type": "code",
        "outputId": "0f32c94b-b429-43ea-cdc7-f8277f6ddda3",
        "colab": {
          "base_uri": "https://localhost:8080/",
          "height": 282
        }
      },
      "source": [
        "colors = ['blue','red']\n",
        "\n",
        "color = np.array([colors[0]]*h + [colors[1]]*h).reshape(n)\n",
        "plt.scatter(data[:,0], data[:,1], c=color, s=75, alpha=0.6)"
      ],
      "execution_count": 49,
      "outputs": [
        {
          "output_type": "execute_result",
          "data": {
            "text/plain": [
              "<matplotlib.collections.PathCollection at 0x7fbf80055a58>"
            ]
          },
          "metadata": {
            "tags": []
          },
          "execution_count": 49
        },
        {
          "output_type": "display_data",
          "data": {
            "image/png": "[encoded data removed]",
            "text/plain": [
              "<Figure size 432x288 with 1 Axes>"
            ]
          },
          "metadata": {
            "tags": []
          }
        }
      ]
    },
    {
      "cell_type": "code",
      "metadata": {
        "id": "87guF8pI_Vsa",
        "colab_type": "code",
        "colab": {
          "base_uri": "https://localhost:8080/",
          "height": 34
        },
        "outputId": "326ca1f4-cb8f-423e-ab7e-953c4b01dc8f"
      },
      "source": [
        "target = np.array([0]*h + [1]*h).reshape(n, 1)\n",
        "\n",
        "x = torch.from_numpy(data).float().requires_grad_(True)\n",
        "\n",
        "y = torch.from_numpy(target).float()\n",
        "\n",
        "x.shape, y.shape"
      ],
      "execution_count": 56,
      "outputs": [
        {
          "output_type": "execute_result",
          "data": {
            "text/plain": [
              "(torch.Size([100, 2]), torch.Size([100, 1]))"
            ]
          },
          "metadata": {
            "tags": []
          },
          "execution_count": 56
        }
      ]
    },
    {
      "cell_type": "code",
      "metadata": {
        "id": "6t63vNMc6RPY",
        "colab_type": "code",
        "outputId": "71f0c94c-fc07-44c6-b753-2a7e55a9ef24",
        "colab": {
          "base_uri": "https://localhost:8080/",
          "height": 282
        }
      },
      "source": [
        "model = nn.Sequential(\n",
        "          nn.Linear(2,1),\n",
        "          nn.Sigmoid()\n",
        "      )\n",
        "loss_function = nn.BCELoss()\n",
        "\n",
        "optimizer = optim.SGD(model.parameters(), lr=0.01)\n",
        "\n",
        "losses = []\n",
        "\n",
        "iterations = 2000\n",
        "\n",
        "for i in range(iterations):\n",
        "  result = model(x)\n",
        "  \n",
        "  loss = loss_function(result, y)\n",
        "  losses.append(loss.data)\n",
        "  \n",
        "  optimizer.zero_grad()\n",
        "  loss.backward()\n",
        "  \n",
        "  optimizer.step()\n",
        "\n",
        "plt.plot(range(iterations), losses)\n",
        "loss\n",
        "\n"
      ],
      "execution_count": 57,
      "outputs": [
        {
          "output_type": "execute_result",
          "data": {
            "text/plain": [
              "tensor(0.2638, grad_fn=<BinaryCrossEntropyBackward>)"
            ]
          },
          "metadata": {
            "tags": []
          },
          "execution_count": 57
        },
        {
          "output_type": "display_data",
          "data": {
            "image/png": "[encoded data removed]",
            "text/plain": [
              "<Figure size 432x288 with 1 Axes>"
            ]
          },
          "metadata": {
            "tags": []
          }
        }
      ]
    },
    {
      "cell_type": "code",
      "metadata": {
        "id": "JFB-rLweVocS",
        "colab_type": "code",
        "colab": {
          "base_uri": "https://localhost:8080/",
          "height": 51
        },
        "outputId": "5ab33d2a-132a-4f60-ac73-edda013ad1d9"
      },
      "source": [
        "blue = torch.Tensor([[-5, -6]])\n",
        "prediction = model(blue).data[0][0] > 0.5\n",
        "print(colors[prediction])\n",
        "\n",
        "red = torch.Tensor([[8, 6]])\n",
        "prediction = model(red).data[0][0] > 0.5\n",
        "print(colors[prediction])\n",
        "\n"
      ],
      "execution_count": 58,
      "outputs": [
        {
          "output_type": "stream",
          "text": [
            "blue\n",
            "red\n"
          ],
          "name": "stdout"
        }
      ]
    },
    {
      "cell_type": "code",
      "metadata": {
        "id": "DMmoVt7rYB__",
        "colab_type": "code",
        "colab": {
          "base_uri": "https://localhost:8080/",
          "height": 282
        },
        "outputId": "ca9a9853-4a29-4753-e121-0166fcc33cd8"
      },
      "source": [
        "w = list(model.parameters())\n",
        "w0 = w[0].data.numpy()\n",
        "w1 = w[1].data.numpy()\n",
        "\n",
        "plt.scatter(data[:,0], data[:,1], c=color, s=75, alpha=0.6)\n",
        "\n",
        "x_axis = np.linspace(-10, 10, n)\n",
        "y_axis = -(w1[0] + x_axis*w0[0][0]) / w0[0][1]\n",
        "plt.plot(x_axis, y_axis,'g--')"
      ],
      "execution_count": 55,
      "outputs": [
        {
          "output_type": "execute_result",
          "data": {
            "text/plain": [
              "[<matplotlib.lines.Line2D at 0x7fbf7ff4f4a8>]"
            ]
          },
          "metadata": {
            "tags": []
          },
          "execution_count": 55
        },
        {
          "output_type": "display_data",
          "data": {
            "image/png": "[encoded data removed]",
            "text/plain": [
              "<Figure size 432x288 with 1 Axes>"
            ]
          },
          "metadata": {
            "tags": []
          }
        }
      ]
    }
  ]
}